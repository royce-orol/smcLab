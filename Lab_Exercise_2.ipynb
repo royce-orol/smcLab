{
 "cells": [
  {
   "cell_type": "markdown",
   "metadata": {},
   "source": [
    "### LAB EXERCISE - 2 IMDB MOVIE REVIEWS"
   ]
  },
  {
   "cell_type": "code",
   "execution_count": null,
   "metadata": {},
   "outputs": [],
   "source": [
    "from textblob import TextBlob\n",
    "from vaderSentiment.vaderSentiment import SentimentIntensityAnalyzer\n",
    "from afinn import Afinn"
   ]
  },
  {
   "cell_type": "code",
   "execution_count": null,
   "metadata": {},
   "outputs": [],
   "source": [
    "# Initialize analyzers\n",
    "vader_analyzer = SentimentIntensityAnalyzer()\n",
    "afinn_analyzer = Afinn()\n",
    "\n",
    "# TextBlob Sentiment Analysis\n",
    "# Ranges from -1 (very negative) to +1 (very positive)\n",
    "df['textblob_polarity'] = df['html_review'].apply(lambda x: TextBlob(x).sentiment.polarity)\n",
    "# Ranges from 0 (objective) to 1 (subjective)\n",
    "df['textblob_subjectivity'] = df['html_review'].apply(lambda x: TextBlob(x).sentiment.subjectivity)\n",
    "\n",
    "# VADER Sentiment Analysis\n",
    "# Proportions of negative, neutral, and positive sentiment\n",
    "# Normalized score from -1 to +1 summarizing the sentiment\n",
    "vader_scores = df['html_review'].apply(lambda x: vader_analyzer.polarity_scores(x))\n",
    "df['vader_neg'] = vader_scores.apply(lambda x: x['neg'])\n",
    "df['vader_neu'] = vader_scores.apply(lambda x: x['neu'])\n",
    "df['vader_pos'] = vader_scores.apply(lambda x: x['pos'])\n",
    "df['vader_compound'] = vader_scores.apply(lambda x: x['compound'])\n",
    "\n",
    "# AFINN Sentiment Analysis (A total sentiment score (sum of term scores). More positive = more positive sentiment)\n",
    "df['afinn_score'] = df['html_review'].apply(lambda x: afinn_analyzer.score(x))"
   ]
  },
  {
   "cell_type": "code",
   "execution_count": null,
   "metadata": {},
   "outputs": [],
   "source": [
    "# View the textblob_polarity, vader_compound, afinn_score\n",
    "print(df[['html_review', 'textblob_polarity', 'vader_compound', 'afinn_score']].head())\n",
    "# Compare sentiment distributions\n",
    "plt.figure(figsize=(12, 6))\n",
    "sns.histplot(df['textblob_polarity'], color='blue', label='TextBlob', kde=True)\n",
    "sns.histplot(df['vader_compound'], color='green', label='VADER', kde=True)\n",
    "sns.histplot(df['afinn_score'], color='red', label='AFINN', kde=True)\n",
    "plt.legend()\n",
    "plt.title('Sentiment Score Distribution Comparison')\n",
    "plt.show()"
   ]
  },
  {
   "cell_type": "markdown",
   "metadata": {},
   "source": []
  }
 ],
 "metadata": {
  "kernelspec": {
   "display_name": "Python 3",
   "language": "python",
   "name": "python3"
  },
  "language_info": {
   "name": "python",
   "version": "3.13.1"
  }
 },
 "nbformat": 4,
 "nbformat_minor": 2
}
